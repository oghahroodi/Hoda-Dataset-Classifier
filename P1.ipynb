{
 "cells": [
  {
   "cell_type": "code",
   "execution_count": 24,
   "metadata": {},
   "outputs": [
    {
     "name": "stdout",
     "output_type": "stream",
     "text": [
      "Load train images\n",
      "Load test images\n"
     ]
    }
   ],
   "source": [
    "from HodaDatasetReader.HodaDatasetReader import *\n",
    "from keras.datasets import mnist\n",
    "from keras.models import Sequential\n",
    "from keras.layers import Dense\n",
    "from keras.layers import Dropout\n",
    "from keras.utils import np_utils\n",
    "from sklearn.metrics import classification_report\n",
    "import matplotlib.pyplot as plt\n",
    "import random\n",
    "import numpy\n",
    "\n",
    "print('Load train images')\n",
    "x_train, y_train = read_hoda_dataset(dataset_path='HodaDatasetReader/DigitDB/Train 60000.cdb',\n",
    "                                images_height=32,\n",
    "                                images_width=32,\n",
    "                                one_hot=False,\n",
    "                                reshape=True)\n",
    "\n",
    "\n",
    "print('Load test images')\n",
    "x_test, y_test = read_hoda_dataset(dataset_path='HodaDatasetReader/DigitDB/Test 20000.cdb',\n",
    "                              images_height=32,\n",
    "                              images_width=32,\n",
    "                              one_hot=False,\n",
    "                              reshape=True)\n"
   ]
  },
  {
   "cell_type": "code",
   "execution_count": 25,
   "metadata": {},
   "outputs": [
    {
     "data": {
      "image/png": "[encoded data removed]",
      "text/plain": [
       "<Figure size 432x288 with 2 Axes>"
      ]
     },
     "metadata": {
      "needs_background": "light"
     },
     "output_type": "display_data"
    }
   ],
   "source": [
    "### a\n",
    "\n",
    "\n",
    "img1 = plt.subplot(221)\n",
    "train_index = random.randint(0, len(x_train))\n",
    "test_index = random.randint(0, len(y_test))\n",
    "img1.set_title('train')\n",
    "plt.imshow(x_train[train_index].reshape(32,32))\n",
    "img2 = plt.subplot(222)\n",
    "plt.imshow(x_train[test_index].reshape(32,32))\n",
    "img2.set_title('test')\n",
    "\n",
    "# show the plot\n",
    "plt.show()"
   ]
  },
  {
   "cell_type": "code",
   "execution_count": 26,
   "metadata": {},
   "outputs": [],
   "source": [
    "### b\n",
    "\n",
    "\n",
    "X_train = x_train.astype('float32') / 255\n",
    "X_test = x_test.astype('float32') / 255\n",
    "\n",
    "# one hot encode outputs\n",
    "Y_train = np_utils.to_categorical(y_train)\n",
    "Y_test = np_utils.to_categorical(y_test)\n",
    "num_classes = Y_test.shape[1]\n",
    "\n",
    "# create model\n",
    "model = Sequential()\n",
    "model.add(Dense(400, input_shape=(32 * 32,), activation='relu'))\n",
    "model.add(Dense(num_classes, activation='sigmoid'))\n",
    "# Compile model\n",
    "model.compile(loss='categorical_crossentropy', optimizer='adam', metrics=['accuracy'])\n",
    "\n",
    "\n",
    "\n"
   ]
  },
  {
   "cell_type": "code",
   "execution_count": 27,
   "metadata": {
    "scrolled": true
   },
   "outputs": [
    {
     "name": "stdout",
     "output_type": "stream",
     "text": [
      "Epoch 1/10\n",
      "60000/60000 [==============================] - 3s 43us/step - loss: 1.3424 - acc: 0.8098\n",
      "Epoch 2/10\n",
      "60000/60000 [==============================] - 2s 37us/step - loss: 0.3609 - acc: 0.9135\n",
      "Epoch 3/10\n",
      "60000/60000 [==============================] - 3s 42us/step - loss: 0.2476 - acc: 0.9347\n",
      "Epoch 4/10\n",
      "60000/60000 [==============================] - 3s 45us/step - loss: 0.2078 - acc: 0.9433\n",
      "Epoch 5/10\n",
      "60000/60000 [==============================] - 2s 36us/step - loss: 0.1864 - acc: 0.9491\n",
      "Epoch 6/10\n",
      "60000/60000 [==============================] - 2s 36us/step - loss: 0.1729 - acc: 0.9528\n",
      "Epoch 7/10\n",
      "60000/60000 [==============================] - 2s 37us/step - loss: 0.1636 - acc: 0.9551\n",
      "Epoch 8/10\n",
      "60000/60000 [==============================] - 3s 44us/step - loss: 0.1565 - acc: 0.9571\n",
      "Epoch 9/10\n",
      "60000/60000 [==============================] - 2s 42us/step - loss: 0.1509 - acc: 0.9592\n",
      "Epoch 10/10\n",
      "60000/60000 [==============================] - 2s 42us/step - loss: 0.1458 - acc: 0.9602\n",
      "Train acc :  0.96115\n",
      "Test acc :  0.91735\n"
     ]
    }
   ],
   "source": [
    "# Fit the model\n",
    "h = model.fit(X_train, Y_train, epochs=10, batch_size=200)\n",
    "# Final evaluation of the model\n",
    "_, train_acc = model.evaluate(X_train, Y_train, verbose=0)\n",
    "_, test_acc = model.evaluate(X_test, Y_test, verbose=0)\n",
    "print(\"Train acc : \", train_acc)\n",
    "print(\"Test acc : \", test_acc)"
   ]
  },
  {
   "cell_type": "code",
   "execution_count": 28,
   "metadata": {},
   "outputs": [
    {
     "data": {
      "image/png": "[encoded data removed]",
      "text/plain": [
       "<Figure size 432x288 with 2 Axes>"
      ]
     },
     "metadata": {
      "needs_background": "light"
     },
     "output_type": "display_data"
    },
    {
     "name": "stdout",
     "output_type": "stream",
     "text": [
      "20000/20000 [==============================] - 0s 19us/step\n",
      "              precision    recall  f1-score   support\n",
      "\n",
      "         0.0       0.96      0.98      0.97      2000\n",
      "         1.0       0.89      0.97      0.93      2000\n",
      "         2.0       0.83      0.85      0.84      2000\n",
      "         3.0       0.90      0.84      0.87      2000\n",
      "         4.0       0.87      0.89      0.88      2000\n",
      "         5.0       0.96      0.96      0.96      2000\n",
      "         6.0       0.90      0.91      0.90      2000\n",
      "         7.0       0.98      0.94      0.96      2000\n",
      "         8.0       0.97      0.94      0.95      2000\n",
      "         9.0       0.92      0.90      0.91      2000\n",
      "\n",
      "   micro avg       0.92      0.92      0.92     20000\n",
      "   macro avg       0.92      0.92      0.92     20000\n",
      "weighted avg       0.92      0.92      0.92     20000\n",
      "\n"
     ]
    }
   ],
   "source": [
    "# plot loss during training\n",
    "plt.subplot(211)\n",
    "plt.title('Loss')\n",
    "plt.plot(h.history['loss'], label='train')\n",
    "plt.legend()\n",
    "# plot accuracy during training\n",
    "plt.subplot(212)\n",
    "plt.title('Accuracy')\n",
    "plt.plot(h.history['acc'], label='train')\n",
    "plt.legend()\n",
    "\n",
    "plt.show()\n",
    "\n",
    "Y_pred = model.predict(X_test, batch_size=200, verbose=1)\n",
    "# print(Y_pred)\n",
    "# print(Y_test)\n",
    "Y_pred_bool = np.argmax(Y_pred, axis=1)\n",
    "\n",
    "print(classification_report(y_test, Y_pred_bool))"
   ]
  },
  {
   "cell_type": "code",
   "execution_count": 29,
   "metadata": {},
   "outputs": [
    {
     "name": "stdout",
     "output_type": "stream",
     "text": [
      "Epoch 1/10\n",
      "60000/60000 [==============================] - 3s 52us/step - loss: 1.3692 - acc: 0.7903\n",
      "Epoch 2/10\n",
      "60000/60000 [==============================] - 2s 40us/step - loss: 0.4121 - acc: 0.8959\n",
      "Epoch 3/10\n",
      "60000/60000 [==============================] - 2s 38us/step - loss: 0.2854 - acc: 0.9223\n",
      "Epoch 4/10\n",
      "60000/60000 [==============================] - 2s 40us/step - loss: 0.2374 - acc: 0.9332\n",
      "Epoch 5/10\n",
      "60000/60000 [==============================] - 2s 40us/step - loss: 0.2123 - acc: 0.9402\n",
      "Epoch 6/10\n",
      "60000/60000 [==============================] - 2s 37us/step - loss: 0.1956 - acc: 0.9450\n",
      "Epoch 7/10\n",
      "60000/60000 [==============================] - 2s 39us/step - loss: 0.1818 - acc: 0.9491\n",
      "Epoch 8/10\n",
      "60000/60000 [==============================] - 2s 41us/step - loss: 0.1729 - acc: 0.9517\n",
      "Epoch 9/10\n",
      "60000/60000 [==============================] - 2s 38us/step - loss: 0.1633 - acc: 0.9541\n",
      "Epoch 10/10\n",
      "60000/60000 [==============================] - 2s 40us/step - loss: 0.1551 - acc: 0.9573\n",
      "Train acc :  0.9617333333333333\n",
      "Test acc :  0.9188\n"
     ]
    },
    {
     "data": {
      "image/png": "[encoded data removed]",
      "text/plain": [
       "<Figure size 432x288 with 2 Axes>"
      ]
     },
     "metadata": {
      "needs_background": "light"
     },
     "output_type": "display_data"
    },
    {
     "name": "stdout",
     "output_type": "stream",
     "text": [
      "20000/20000 [==============================] - 0s 22us/step\n",
      "              precision    recall  f1-score   support\n",
      "\n",
      "         0.0       0.95      0.98      0.97      2000\n",
      "         1.0       0.91      0.97      0.94      2000\n",
      "         2.0       0.83      0.85      0.84      2000\n",
      "         3.0       0.89      0.85      0.87      2000\n",
      "         4.0       0.89      0.88      0.88      2000\n",
      "         5.0       0.96      0.97      0.96      2000\n",
      "         6.0       0.91      0.90      0.91      2000\n",
      "         7.0       0.98      0.94      0.96      2000\n",
      "         8.0       0.97      0.93      0.95      2000\n",
      "         9.0       0.91      0.92      0.91      2000\n",
      "\n",
      "   micro avg       0.92      0.92      0.92     20000\n",
      "   macro avg       0.92      0.92      0.92     20000\n",
      "weighted avg       0.92      0.92      0.92     20000\n",
      "\n"
     ]
    }
   ],
   "source": [
    "### c\n",
    "\n",
    "\n",
    "# create model\n",
    "model = Sequential()\n",
    "model.add(Dense(400, input_shape=(32 * 32,), activation='relu'))\n",
    "model.add(Dropout(0.25))\n",
    "model.add(Dense(num_classes, activation='sigmoid'))\n",
    "# Compile model\n",
    "model.compile(loss='categorical_crossentropy', optimizer='adam', metrics=['accuracy'])\n",
    "\n",
    "# Fit the model\n",
    "h = model.fit(X_train, Y_train, epochs=10, batch_size=200)\n",
    "# Final evaluation of the model\n",
    "_, train_acc = model.evaluate(X_train, Y_train, verbose=0)\n",
    "_, test_acc = model.evaluate(X_test, Y_test, verbose=0)\n",
    "print(\"Train acc : \", train_acc)\n",
    "print(\"Test acc : \", test_acc)\n",
    "\n",
    "# plot loss during training\n",
    "plt.subplot(211)\n",
    "plt.title('Loss')\n",
    "plt.plot(h.history['loss'], label='train')\n",
    "plt.legend()\n",
    "# plot accuracy during training\n",
    "plt.subplot(212)\n",
    "plt.title('Accuracy')\n",
    "plt.plot(h.history['acc'], label='train')\n",
    "plt.legend()\n",
    "\n",
    "plt.show()\n",
    "\n",
    "Y_pred = model.predict(X_test, batch_size=200, verbose=1)\n",
    "# print(Y_pred)\n",
    "# print(Y_test)\n",
    "Y_pred_bool = np.argmax(Y_pred, axis=1)\n",
    "\n",
    "print(classification_report(y_test, Y_pred_bool))"
   ]
  },
  {
   "cell_type": "code",
   "execution_count": 30,
   "metadata": {},
   "outputs": [
    {
     "name": "stdout",
     "output_type": "stream",
     "text": [
      "Train on 48000 samples, validate on 12000 samples\n",
      "Epoch 1/10\n",
      "48000/48000 [==============================] - 2s 49us/step - loss: 1.5365 - acc: 0.7980 - val_loss: 0.6491 - val_acc: 0.8765\n",
      "Epoch 2/10\n",
      "48000/48000 [==============================] - 2s 40us/step - loss: 0.4439 - acc: 0.9000 - val_loss: 0.3357 - val_acc: 0.9149\n",
      "Epoch 3/10\n",
      "48000/48000 [==============================] - 2s 43us/step - loss: 0.2848 - acc: 0.9262 - val_loss: 0.2554 - val_acc: 0.9350\n",
      "Epoch 4/10\n",
      "48000/48000 [==============================] - 2s 42us/step - loss: 0.2309 - acc: 0.9380 - val_loss: 0.2212 - val_acc: 0.9402\n",
      "Epoch 5/10\n",
      "48000/48000 [==============================] - 2s 40us/step - loss: 0.2036 - acc: 0.9440 - val_loss: 0.2010 - val_acc: 0.9445\n",
      "Epoch 6/10\n",
      "48000/48000 [==============================] - 2s 49us/step - loss: 0.1867 - acc: 0.9480 - val_loss: 0.1891 - val_acc: 0.9481\n",
      "Epoch 7/10\n",
      "48000/48000 [==============================] - 2s 41us/step - loss: 0.1754 - acc: 0.9510 - val_loss: 0.1781 - val_acc: 0.9511\n",
      "Epoch 8/10\n",
      "48000/48000 [==============================] - 2s 47us/step - loss: 0.1663 - acc: 0.9536 - val_loss: 0.1713 - val_acc: 0.9526\n",
      "Epoch 9/10\n",
      "48000/48000 [==============================] - 2s 43us/step - loss: 0.1592 - acc: 0.9561 - val_loss: 0.1654 - val_acc: 0.9547\n",
      "Epoch 10/10\n",
      "48000/48000 [==============================] - 2s 51us/step - loss: 0.1536 - acc: 0.9581 - val_loss: 0.1623 - val_acc: 0.9556\n",
      "Train acc :  0.9580166666666666\n",
      "Test acc :  0.9108\n"
     ]
    },
    {
     "data": {
      "image/png": "[encoded data removed]",
      "text/plain": [
       "<Figure size 432x288 with 2 Axes>"
      ]
     },
     "metadata": {
      "needs_background": "light"
     },
     "output_type": "display_data"
    },
    {
     "name": "stdout",
     "output_type": "stream",
     "text": [
      "20000/20000 [==============================] - 0s 23us/step\n",
      "              precision    recall  f1-score   support\n",
      "\n",
      "         0.0       0.94      0.98      0.96      2000\n",
      "         1.0       0.89      0.97      0.93      2000\n",
      "         2.0       0.81      0.83      0.82      2000\n",
      "         3.0       0.87      0.86      0.86      2000\n",
      "         4.0       0.89      0.85      0.87      2000\n",
      "         5.0       0.96      0.96      0.96      2000\n",
      "         6.0       0.89      0.90      0.90      2000\n",
      "         7.0       0.98      0.93      0.95      2000\n",
      "         8.0       0.97      0.93      0.95      2000\n",
      "         9.0       0.92      0.90      0.91      2000\n",
      "\n",
      "   micro avg       0.91      0.91      0.91     20000\n",
      "   macro avg       0.91      0.91      0.91     20000\n",
      "weighted avg       0.91      0.91      0.91     20000\n",
      "\n"
     ]
    }
   ],
   "source": [
    "### d\n",
    "\n",
    "\n",
    "# create model\n",
    "model = Sequential()\n",
    "model.add(Dense(400, input_shape=(32 * 32,), activation='relu'))\n",
    "model.add(Dense(num_classes, activation='sigmoid'))\n",
    "# Compile model\n",
    "model.compile(loss='categorical_crossentropy', optimizer='adam', metrics=['accuracy'])\n",
    "\n",
    "# Fit the model\n",
    "h = model.fit(X_train, Y_train, epochs=10, batch_size=200, validation_split=0.2)\n",
    "# Final evaluation of the model\n",
    "_, train_acc = model.evaluate(X_train, Y_train, verbose=0)\n",
    "_, test_acc = model.evaluate(X_test, Y_test, verbose=0)\n",
    "print(\"Train acc : \", train_acc)\n",
    "print(\"Test acc : \", test_acc)\n",
    "\n",
    "# plot loss during training\n",
    "plt.subplot(211)\n",
    "plt.title('Loss')\n",
    "plt.plot(h.history['loss'], label='train')\n",
    "plt.legend()\n",
    "# plot accuracy during training\n",
    "plt.subplot(212)\n",
    "plt.title('Accuracy')\n",
    "plt.plot(h.history['acc'], label='train')\n",
    "plt.legend()\n",
    "\n",
    "plt.show()\n",
    "\n",
    "Y_pred = model.predict(X_test, batch_size=200, verbose=1)\n",
    "# print(Y_pred)\n",
    "# print(Y_test)\n",
    "Y_pred_bool = np.argmax(Y_pred, axis=1)\n",
    "\n",
    "print(classification_report(y_test, Y_pred_bool))"
   ]
  },
  {
   "cell_type": "code",
   "execution_count": 31,
   "metadata": {},
   "outputs": [
    {
     "name": "stdout",
     "output_type": "stream",
     "text": [
      "Epoch 1/10\n",
      "60000/60000 [==============================] - 2s 38us/step - loss: 2.0518 - acc: 0.7226\n",
      "Epoch 2/10\n",
      "60000/60000 [==============================] - 2s 30us/step - loss: 0.9038 - acc: 0.8645\n",
      "Epoch 3/10\n",
      "60000/60000 [==============================] - 2s 34us/step - loss: 0.4578 - acc: 0.9007\n",
      "Epoch 4/10\n",
      "60000/60000 [==============================] - 2s 28us/step - loss: 0.3309 - acc: 0.9190\n",
      "Epoch 5/10\n",
      "60000/60000 [==============================] - 2s 28us/step - loss: 0.2731 - acc: 0.9300\n",
      "Epoch 6/10\n",
      "60000/60000 [==============================] - 2s 28us/step - loss: 0.2399 - acc: 0.9370\n",
      "Epoch 7/10\n",
      "60000/60000 [==============================] - 2s 28us/step - loss: 0.2177 - acc: 0.9415\n",
      "Epoch 8/10\n",
      "60000/60000 [==============================] - 2s 28us/step - loss: 0.2030 - acc: 0.9448\n",
      "Epoch 9/10\n",
      "60000/60000 [==============================] - 2s 31us/step - loss: 0.1911 - acc: 0.9475\n",
      "Epoch 10/10\n",
      "60000/60000 [==============================] - 2s 32us/step - loss: 0.1819 - acc: 0.9503\n",
      "Train acc :  0.9516166666666667\n",
      "Test acc :  0.8993\n"
     ]
    },
    {
     "data": {
      "image/png": "[encoded data removed]",
      "text/plain": [
       "<Figure size 432x288 with 2 Axes>"
      ]
     },
     "metadata": {
      "needs_background": "light"
     },
     "output_type": "display_data"
    },
    {
     "name": "stdout",
     "output_type": "stream",
     "text": [
      "20000/20000 [==============================] - 0s 19us/step\n",
      "              precision    recall  f1-score   support\n",
      "\n",
      "         0.0       0.94      0.98      0.96      2000\n",
      "         1.0       0.89      0.96      0.92      2000\n",
      "         2.0       0.78      0.81      0.79      2000\n",
      "         3.0       0.85      0.83      0.84      2000\n",
      "         4.0       0.88      0.84      0.86      2000\n",
      "         5.0       0.95      0.96      0.96      2000\n",
      "         6.0       0.88      0.88      0.88      2000\n",
      "         7.0       0.97      0.92      0.94      2000\n",
      "         8.0       0.95      0.94      0.94      2000\n",
      "         9.0       0.91      0.89      0.90      2000\n",
      "\n",
      "   micro avg       0.90      0.90      0.90     20000\n",
      "   macro avg       0.90      0.90      0.90     20000\n",
      "weighted avg       0.90      0.90      0.90     20000\n",
      "\n"
     ]
    }
   ],
   "source": [
    "### e\n",
    "\n",
    "# create model\n",
    "model = Sequential()\n",
    "model.add(Dense(400, input_shape=(32 * 32,), activation='relu'))\n",
    "model.add(Dense(num_classes, activation='sigmoid'))\n",
    "# Compile model\n",
    "model.compile(loss='categorical_crossentropy', optimizer='adam', metrics=['accuracy'])\n",
    "\n",
    "# Fit the model\n",
    "h = model.fit(X_train, Y_train, epochs=10, batch_size=500)\n",
    "# Final evaluation of the model\n",
    "_, train_acc = model.evaluate(X_train, Y_train, verbose=0)\n",
    "_, test_acc = model.evaluate(X_test, Y_test, verbose=0)\n",
    "print(\"Train acc : \", train_acc)\n",
    "print(\"Test acc : \", test_acc)\n",
    "\n",
    "# plot loss during training\n",
    "plt.subplot(211)\n",
    "plt.title('Loss')\n",
    "plt.plot(h.history['loss'], label='train')\n",
    "plt.legend()\n",
    "# plot accuracy during training\n",
    "plt.subplot(212)\n",
    "plt.title('Accuracy')\n",
    "plt.plot(h.history['acc'], label='train')\n",
    "plt.legend()\n",
    "\n",
    "plt.show()\n",
    "\n",
    "Y_pred = model.predict(X_test, batch_size=500, verbose=1)\n",
    "# print(Y_pred)\n",
    "# print(Y_test)\n",
    "Y_pred_bool = np.argmax(Y_pred, axis=1)\n",
    "\n",
    "print(classification_report(y_test, Y_pred_bool))"
   ]
  },
  {
   "cell_type": "code",
   "execution_count": null,
   "metadata": {},
   "outputs": [],
   "source": []
  }
 ],
 "metadata": {
  "kernelspec": {
   "display_name": "Python 3",
   "language": "python",
   "name": "python3"
  },
  "language_info": {
   "codemirror_mode": {
    "name": "ipython",
    "version": 3
   },
   "file_extension": ".py",
   "mimetype": "text/x-python",
   "name": "python",
   "nbconvert_exporter": "python",
   "pygments_lexer": "ipython3",
   "version": "3.6.8"
  }
 },
 "nbformat": 4,
 "nbformat_minor": 2
}
